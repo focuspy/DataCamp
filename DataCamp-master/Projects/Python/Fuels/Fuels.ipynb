{
 "cells": [
  {
   "cell_type": "code",
   "execution_count": 634,
   "metadata": {},
   "outputs": [],
   "source": [
    "import pandas as pd\n",
    "import seaborn as sns\n",
    "import numpy as np\n",
    "import matplotlib.pyplot as plt\n",
    "from sklearn import datasets"
   ]
  },
  {
   "cell_type": "code",
   "execution_count": 635,
   "metadata": {},
   "outputs": [],
   "source": [
    "book1 = pd.read_csv('datasets/Postos.csv', usecols = ['Marca','Preco', 'Distrito', 'Localidade', 'DataAtualizacao'])\n",
    "book2 = pd.read_csv('datasets/Postos.csv')"
   ]
  },
  {
   "cell_type": "code",
   "execution_count": 636,
   "metadata": {},
   "outputs": [
    {
     "data": {
      "text/plain": [
       "(2871, 5)"
      ]
     },
     "execution_count": 636,
     "metadata": {},
     "output_type": "execute_result"
    }
   ],
   "source": [
    "book1.shape"
   ]
  },
  {
   "cell_type": "code",
   "execution_count": 637,
   "metadata": {},
   "outputs": [
    {
     "data": {
      "text/plain": [
       "Index(['Nome', 'TipoPosto', 'Municipio', 'Preco', 'Marca', 'Combustivel',\n",
       "       'DataAtualizacao', 'Distrito', 'Morada', 'Localidade', 'CodPostal',\n",
       "       'Latitude', 'Longitude'],\n",
       "      dtype='object')"
      ]
     },
     "execution_count": 637,
     "metadata": {},
     "output_type": "execute_result"
    }
   ],
   "source": [
    "book2.columns"
   ]
  },
  {
   "cell_type": "code",
   "execution_count": 638,
   "metadata": {},
   "outputs": [
    {
     "data": {
      "text/html": [
       "<div>\n",
       "<style scoped>\n",
       "    .dataframe tbody tr th:only-of-type {\n",
       "        vertical-align: middle;\n",
       "    }\n",
       "\n",
       "    .dataframe tbody tr th {\n",
       "        vertical-align: top;\n",
       "    }\n",
       "\n",
       "    .dataframe thead th {\n",
       "        text-align: right;\n",
       "    }\n",
       "</style>\n",
       "<table border=\"1\" class=\"dataframe\">\n",
       "  <thead>\n",
       "    <tr style=\"text-align: right;\">\n",
       "      <th></th>\n",
       "      <th>Preco</th>\n",
       "      <th>Marca</th>\n",
       "      <th>DataAtualizacao</th>\n",
       "      <th>Distrito</th>\n",
       "      <th>Localidade</th>\n",
       "    </tr>\n",
       "  </thead>\n",
       "  <tbody>\n",
       "    <tr>\n",
       "      <th>0</th>\n",
       "      <td>1.95</td>\n",
       "      <td>GALP</td>\n",
       "      <td>6/5/22 0:05</td>\n",
       "      <td>Porto</td>\n",
       "      <td>Tapadinha</td>\n",
       "    </tr>\n",
       "    <tr>\n",
       "      <th>1</th>\n",
       "      <td>1.95</td>\n",
       "      <td>BP</td>\n",
       "      <td>3/5/22 0:00</td>\n",
       "      <td>Faro</td>\n",
       "      <td>Faro</td>\n",
       "    </tr>\n",
       "    <tr>\n",
       "      <th>2</th>\n",
       "      <td>1.95</td>\n",
       "      <td>BP</td>\n",
       "      <td>3/5/22 6:00</td>\n",
       "      <td>Évora</td>\n",
       "      <td>Montemor-o-Novo</td>\n",
       "    </tr>\n",
       "    <tr>\n",
       "      <th>3</th>\n",
       "      <td>1.98</td>\n",
       "      <td>BP</td>\n",
       "      <td>6/5/22 8:00</td>\n",
       "      <td>Porto</td>\n",
       "      <td>Porto</td>\n",
       "    </tr>\n",
       "    <tr>\n",
       "      <th>4</th>\n",
       "      <td>1.98</td>\n",
       "      <td>BP</td>\n",
       "      <td>3/5/22 0:00</td>\n",
       "      <td>Lisboa</td>\n",
       "      <td>Lisboa - Xabregas</td>\n",
       "    </tr>\n",
       "    <tr>\n",
       "      <th>...</th>\n",
       "      <td>...</td>\n",
       "      <td>...</td>\n",
       "      <td>...</td>\n",
       "      <td>...</td>\n",
       "      <td>...</td>\n",
       "    </tr>\n",
       "    <tr>\n",
       "      <th>2866</th>\n",
       "      <td>1.91</td>\n",
       "      <td>GALP</td>\n",
       "      <td>2/5/22 0:00</td>\n",
       "      <td>Évora</td>\n",
       "      <td>Redondo</td>\n",
       "    </tr>\n",
       "    <tr>\n",
       "      <th>2867</th>\n",
       "      <td>1.89</td>\n",
       "      <td>GALP</td>\n",
       "      <td>2/5/22 0:00</td>\n",
       "      <td>Portalegre</td>\n",
       "      <td>Santo Aleixo</td>\n",
       "    </tr>\n",
       "    <tr>\n",
       "      <th>2868</th>\n",
       "      <td>1.84</td>\n",
       "      <td>CEPSA</td>\n",
       "      <td>2/5/22 13:45</td>\n",
       "      <td>Porto</td>\n",
       "      <td>Penafiel</td>\n",
       "    </tr>\n",
       "    <tr>\n",
       "      <th>2869</th>\n",
       "      <td>1.84</td>\n",
       "      <td>CEPSA</td>\n",
       "      <td>2/5/22 13:45</td>\n",
       "      <td>Porto</td>\n",
       "      <td>Penafiel</td>\n",
       "    </tr>\n",
       "    <tr>\n",
       "      <th>2870</th>\n",
       "      <td>1.95</td>\n",
       "      <td>FREITAS</td>\n",
       "      <td>2/5/22 17:30</td>\n",
       "      <td>Castelo Branco</td>\n",
       "      <td>Zebreira</td>\n",
       "    </tr>\n",
       "  </tbody>\n",
       "</table>\n",
       "<p>2871 rows × 5 columns</p>\n",
       "</div>"
      ],
      "text/plain": [
       "      Preco    Marca DataAtualizacao        Distrito         Localidade\n",
       "0      1.95     GALP     6/5/22 0:05           Porto          Tapadinha\n",
       "1      1.95       BP     3/5/22 0:00            Faro               Faro\n",
       "2      1.95       BP     3/5/22 6:00           Évora    Montemor-o-Novo\n",
       "3      1.98       BP     6/5/22 8:00           Porto              Porto\n",
       "4      1.98       BP     3/5/22 0:00          Lisboa  Lisboa - Xabregas\n",
       "...     ...      ...             ...             ...                ...\n",
       "2866   1.91     GALP     2/5/22 0:00           Évora            Redondo\n",
       "2867   1.89     GALP     2/5/22 0:00      Portalegre       Santo Aleixo\n",
       "2868   1.84    CEPSA    2/5/22 13:45           Porto           Penafiel\n",
       "2869   1.84    CEPSA    2/5/22 13:45           Porto           Penafiel\n",
       "2870   1.95  FREITAS    2/5/22 17:30  Castelo Branco           Zebreira\n",
       "\n",
       "[2871 rows x 5 columns]"
      ]
     },
     "execution_count": 638,
     "metadata": {},
     "output_type": "execute_result"
    }
   ],
   "source": [
    "book1"
   ]
  },
  {
   "cell_type": "code",
   "execution_count": 639,
   "metadata": {},
   "outputs": [
    {
     "name": "stdout",
     "output_type": "stream",
     "text": [
      "-------------------------------min--------------------------------\n",
      "      Preco        Marca DataAtualizacao Distrito     Localidade\n",
      "1827    1.7  INTERMARCHÉ     3/5/22 8:40   Guarda  Vilar Formoso\n",
      "-------------------------------max--------------------------------\n",
      "      Preco           Marca DataAtualizacao Distrito   Localidade\n",
      "1413   2.06  ALVES BANDEIRA    28/4/22 9:25   Lisboa  Freixofeira\n"
     ]
    }
   ],
   "source": [
    "Price = book1['Preco']\n",
    "Local = book1['Localidade']\n",
    "Brand = book1['Marca']\n",
    "print(\"-------------------------------min--------------------------------\")\n",
    "print(book1[book1.Preco == book1.Preco.min()])\n",
    "print(\"-------------------------------max--------------------------------\")\n",
    "print(book1[book1.Preco == book1.Preco.max()])"
   ]
  },
  {
   "cell_type": "code",
   "execution_count": 640,
   "metadata": {},
   "outputs": [
    {
     "data": {
      "image/png": "[encoded data removed]",
      "text/plain": [
       "<Figure size 432x288 with 1 Axes>"
      ]
     },
     "metadata": {
      "needs_background": "light"
     },
     "output_type": "display_data"
    }
   ],
   "source": [
    "ax = sns.lineplot(x=Brand, y=Price)"
   ]
  }
 ],
 "metadata": {
  "interpreter": {
   "hash": "2a461a5a5872858cd19cc6c2eb13b25a42a34162c4a5a6df6fc52692e0ec0490"
  },
  "kernelspec": {
   "display_name": "Python 3.10.4 64-bit",
   "language": "python",
   "name": "python3"
  },
  "language_info": {
   "codemirror_mode": {
    "name": "ipython",
    "version": 3
   },
   "file_extension": ".py",
   "mimetype": "text/x-python",
   "name": "python",
   "nbconvert_exporter": "python",
   "pygments_lexer": "ipython3",
   "version": "3.10.4"
  },
  "orig_nbformat": 4
 },
 "nbformat": 4,
 "nbformat_minor": 2
}
