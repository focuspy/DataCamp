{
 "cells": [
  {
   "cell_type": "markdown",
   "metadata": {},
   "source": [
    "Import all the required stuff!"
   ]
  },
  {
   "cell_type": "code",
   "execution_count": 9,
   "metadata": {},
   "outputs": [],
   "source": [
    "import pandas as pd\n",
    "import seaborn as sns\n",
    "import numpy as np\n",
    "import matplotlib.pyplot as plt\n",
    "import matplotlib.ticker as ticker\n",
    "from sklearn import datasets"
   ]
  },
  {
   "cell_type": "markdown",
   "metadata": {},
   "source": [
    "What Columns are we working with?"
   ]
  },
  {
   "cell_type": "code",
   "execution_count": 10,
   "metadata": {},
   "outputs": [],
   "source": [
    "book2 = pd.read_csv('datasets/Postos.csv')"
   ]
  },
  {
   "cell_type": "code",
   "execution_count": 11,
   "metadata": {},
   "outputs": [
    {
     "data": {
      "text/plain": [
       "Index(['Nome', 'TipoPosto', 'Municipio', 'Preco', 'Marca', 'Combustivel',\n",
       "       'DataAtualizacao', 'Distrito', 'Morada', 'Localidade', 'CodPostal',\n",
       "       'Latitude', 'Longitude'],\n",
       "      dtype='object')"
      ]
     },
     "execution_count": 11,
     "metadata": {},
     "output_type": "execute_result"
    }
   ],
   "source": [
    "book2.columns"
   ]
  },
  {
   "cell_type": "markdown",
   "metadata": {},
   "source": [
    "Selecting the collumns that we wish to work with!"
   ]
  },
  {
   "cell_type": "code",
   "execution_count": 12,
   "metadata": {},
   "outputs": [
    {
     "data": {
      "text/html": [
       "<div>\n",
       "<style scoped>\n",
       "    .dataframe tbody tr th:only-of-type {\n",
       "        vertical-align: middle;\n",
       "    }\n",
       "\n",
       "    .dataframe tbody tr th {\n",
       "        vertical-align: top;\n",
       "    }\n",
       "\n",
       "    .dataframe thead th {\n",
       "        text-align: right;\n",
       "    }\n",
       "</style>\n",
       "<table border=\"1\" class=\"dataframe\">\n",
       "  <thead>\n",
       "    <tr style=\"text-align: right;\">\n",
       "      <th></th>\n",
       "      <th>Preco</th>\n",
       "      <th>Marca</th>\n",
       "      <th>DataAtualizacao</th>\n",
       "      <th>Distrito</th>\n",
       "      <th>Localidade</th>\n",
       "    </tr>\n",
       "  </thead>\n",
       "  <tbody>\n",
       "    <tr>\n",
       "      <th>0</th>\n",
       "      <td>1.95</td>\n",
       "      <td>GALP</td>\n",
       "      <td>6/5/22 0:05</td>\n",
       "      <td>Porto</td>\n",
       "      <td>Tapadinha</td>\n",
       "    </tr>\n",
       "    <tr>\n",
       "      <th>1</th>\n",
       "      <td>1.95</td>\n",
       "      <td>BP</td>\n",
       "      <td>3/5/22 0:00</td>\n",
       "      <td>Faro</td>\n",
       "      <td>Faro</td>\n",
       "    </tr>\n",
       "    <tr>\n",
       "      <th>2</th>\n",
       "      <td>1.95</td>\n",
       "      <td>BP</td>\n",
       "      <td>3/5/22 6:00</td>\n",
       "      <td>Évora</td>\n",
       "      <td>Montemor-o-Novo</td>\n",
       "    </tr>\n",
       "    <tr>\n",
       "      <th>3</th>\n",
       "      <td>1.98</td>\n",
       "      <td>BP</td>\n",
       "      <td>6/5/22 8:00</td>\n",
       "      <td>Porto</td>\n",
       "      <td>Porto</td>\n",
       "    </tr>\n",
       "    <tr>\n",
       "      <th>4</th>\n",
       "      <td>1.98</td>\n",
       "      <td>BP</td>\n",
       "      <td>3/5/22 0:00</td>\n",
       "      <td>Lisboa</td>\n",
       "      <td>Lisboa - Xabregas</td>\n",
       "    </tr>\n",
       "    <tr>\n",
       "      <th>...</th>\n",
       "      <td>...</td>\n",
       "      <td>...</td>\n",
       "      <td>...</td>\n",
       "      <td>...</td>\n",
       "      <td>...</td>\n",
       "    </tr>\n",
       "    <tr>\n",
       "      <th>2866</th>\n",
       "      <td>1.91</td>\n",
       "      <td>GALP</td>\n",
       "      <td>2/5/22 0:00</td>\n",
       "      <td>Évora</td>\n",
       "      <td>Redondo</td>\n",
       "    </tr>\n",
       "    <tr>\n",
       "      <th>2867</th>\n",
       "      <td>1.89</td>\n",
       "      <td>GALP</td>\n",
       "      <td>2/5/22 0:00</td>\n",
       "      <td>Portalegre</td>\n",
       "      <td>Santo Aleixo</td>\n",
       "    </tr>\n",
       "    <tr>\n",
       "      <th>2868</th>\n",
       "      <td>1.84</td>\n",
       "      <td>CEPSA</td>\n",
       "      <td>2/5/22 13:45</td>\n",
       "      <td>Porto</td>\n",
       "      <td>Penafiel</td>\n",
       "    </tr>\n",
       "    <tr>\n",
       "      <th>2869</th>\n",
       "      <td>1.84</td>\n",
       "      <td>CEPSA</td>\n",
       "      <td>2/5/22 13:45</td>\n",
       "      <td>Porto</td>\n",
       "      <td>Penafiel</td>\n",
       "    </tr>\n",
       "    <tr>\n",
       "      <th>2870</th>\n",
       "      <td>1.95</td>\n",
       "      <td>FREITAS</td>\n",
       "      <td>2/5/22 17:30</td>\n",
       "      <td>Castelo Branco</td>\n",
       "      <td>Zebreira</td>\n",
       "    </tr>\n",
       "  </tbody>\n",
       "</table>\n",
       "<p>2871 rows × 5 columns</p>\n",
       "</div>"
      ],
      "text/plain": [
       "      Preco    Marca DataAtualizacao        Distrito         Localidade\n",
       "0      1.95     GALP     6/5/22 0:05           Porto          Tapadinha\n",
       "1      1.95       BP     3/5/22 0:00            Faro               Faro\n",
       "2      1.95       BP     3/5/22 6:00           Évora    Montemor-o-Novo\n",
       "3      1.98       BP     6/5/22 8:00           Porto              Porto\n",
       "4      1.98       BP     3/5/22 0:00          Lisboa  Lisboa - Xabregas\n",
       "...     ...      ...             ...             ...                ...\n",
       "2866   1.91     GALP     2/5/22 0:00           Évora            Redondo\n",
       "2867   1.89     GALP     2/5/22 0:00      Portalegre       Santo Aleixo\n",
       "2868   1.84    CEPSA    2/5/22 13:45           Porto           Penafiel\n",
       "2869   1.84    CEPSA    2/5/22 13:45           Porto           Penafiel\n",
       "2870   1.95  FREITAS    2/5/22 17:30  Castelo Branco           Zebreira\n",
       "\n",
       "[2871 rows x 5 columns]"
      ]
     },
     "execution_count": 12,
     "metadata": {},
     "output_type": "execute_result"
    }
   ],
   "source": [
    "book1 = pd.read_csv('datasets/Postos.csv', usecols = ['Marca','Preco', 'Distrito', 'Localidade', 'DataAtualizacao'])\n",
    "book1"
   ]
  },
  {
   "cell_type": "markdown",
   "metadata": {},
   "source": [
    "Where to buy your Diesel?"
   ]
  },
  {
   "cell_type": "code",
   "execution_count": 13,
   "metadata": {},
   "outputs": [
    {
     "name": "stdout",
     "output_type": "stream",
     "text": [
      "-------------------------------min--------------------------------\n",
      "      Preco        Marca DataAtualizacao Distrito     Localidade\n",
      "1827    1.7  INTERMARCHÉ     3/5/22 8:40   Guarda  Vilar Formoso\n",
      "-------------------------------max--------------------------------\n",
      "      Preco           Marca DataAtualizacao Distrito   Localidade\n",
      "1413   2.06  ALVES BANDEIRA    28/4/22 9:25   Lisboa  Freixofeira\n"
     ]
    }
   ],
   "source": [
    "print(\"-------------------------------min--------------------------------\")\n",
    "print(book1[book1.Preco == book1.Preco.min()])\n",
    "print(\"-------------------------------max--------------------------------\")\n",
    "print(book1[book1.Preco == book1.Preco.max()])"
   ]
  },
  {
   "cell_type": "markdown",
   "metadata": {},
   "source": [
    "Stats"
   ]
  },
  {
   "cell_type": "code",
   "execution_count": 14,
   "metadata": {},
   "outputs": [
    {
     "data": {
      "text/plain": [
       "count    2871.000000\n",
       "mean        1.912647\n",
       "std         0.052891\n",
       "min         1.700000\n",
       "25%         1.900000\n",
       "50%         1.910000\n",
       "75%         1.950000\n",
       "max         2.060000\n",
       "Name: Preco, dtype: float64"
      ]
     },
     "execution_count": 14,
     "metadata": {},
     "output_type": "execute_result"
    }
   ],
   "source": [
    "book1['Preco'].describe()"
   ]
  },
  {
   "cell_type": "markdown",
   "metadata": {},
   "source": [
    "Checking If there is values Missing"
   ]
  },
  {
   "cell_type": "code",
   "execution_count": 15,
   "metadata": {},
   "outputs": [
    {
     "name": "stdout",
     "output_type": "stream",
     "text": [
      "Price column has 0 values missing!\n"
     ]
    }
   ],
   "source": [
    "Price = book1['Preco']\n",
    "Nothing_Price = Price.isnull().sum()\n",
    "print(\"Price column has\", Nothing_Price, \"values missing!\")"
   ]
  },
  {
   "cell_type": "markdown",
   "metadata": {},
   "source": [
    "List of Price occurrances."
   ]
  },
  {
   "cell_type": "code",
   "execution_count": 16,
   "metadata": {},
   "outputs": [
    {
     "data": {
      "text/html": [
       "<div>\n",
       "<style scoped>\n",
       "    .dataframe tbody tr th:only-of-type {\n",
       "        vertical-align: middle;\n",
       "    }\n",
       "\n",
       "    .dataframe tbody tr th {\n",
       "        vertical-align: top;\n",
       "    }\n",
       "\n",
       "    .dataframe thead th {\n",
       "        text-align: right;\n",
       "    }\n",
       "</style>\n",
       "<table border=\"1\" class=\"dataframe\">\n",
       "  <thead>\n",
       "    <tr style=\"text-align: right;\">\n",
       "      <th></th>\n",
       "      <th>Preco</th>\n",
       "    </tr>\n",
       "  </thead>\n",
       "  <tbody>\n",
       "    <tr>\n",
       "      <th>1.95</th>\n",
       "      <td>492</td>\n",
       "    </tr>\n",
       "    <tr>\n",
       "      <th>1.91</th>\n",
       "      <td>467</td>\n",
       "    </tr>\n",
       "    <tr>\n",
       "      <th>1.90</th>\n",
       "      <td>371</td>\n",
       "    </tr>\n",
       "    <tr>\n",
       "      <th>1.96</th>\n",
       "      <td>247</td>\n",
       "    </tr>\n",
       "    <tr>\n",
       "      <th>1.98</th>\n",
       "      <td>241</td>\n",
       "    </tr>\n",
       "    <tr>\n",
       "      <th>1.92</th>\n",
       "      <td>116</td>\n",
       "    </tr>\n",
       "    <tr>\n",
       "      <th>1.94</th>\n",
       "      <td>101</td>\n",
       "    </tr>\n",
       "    <tr>\n",
       "      <th>1.89</th>\n",
       "      <td>88</td>\n",
       "    </tr>\n",
       "    <tr>\n",
       "      <th>1.80</th>\n",
       "      <td>84</td>\n",
       "    </tr>\n",
       "    <tr>\n",
       "      <th>1.85</th>\n",
       "      <td>81</td>\n",
       "    </tr>\n",
       "    <tr>\n",
       "      <th>1.83</th>\n",
       "      <td>71</td>\n",
       "    </tr>\n",
       "    <tr>\n",
       "      <th>1.86</th>\n",
       "      <td>60</td>\n",
       "    </tr>\n",
       "    <tr>\n",
       "      <th>1.81</th>\n",
       "      <td>59</td>\n",
       "    </tr>\n",
       "    <tr>\n",
       "      <th>1.93</th>\n",
       "      <td>53</td>\n",
       "    </tr>\n",
       "    <tr>\n",
       "      <th>1.87</th>\n",
       "      <td>49</td>\n",
       "    </tr>\n",
       "    <tr>\n",
       "      <th>1.84</th>\n",
       "      <td>42</td>\n",
       "    </tr>\n",
       "    <tr>\n",
       "      <th>1.88</th>\n",
       "      <td>40</td>\n",
       "    </tr>\n",
       "    <tr>\n",
       "      <th>1.99</th>\n",
       "      <td>39</td>\n",
       "    </tr>\n",
       "    <tr>\n",
       "      <th>1.82</th>\n",
       "      <td>37</td>\n",
       "    </tr>\n",
       "    <tr>\n",
       "      <th>1.79</th>\n",
       "      <td>32</td>\n",
       "    </tr>\n",
       "    <tr>\n",
       "      <th>1.97</th>\n",
       "      <td>25</td>\n",
       "    </tr>\n",
       "    <tr>\n",
       "      <th>2.01</th>\n",
       "      <td>20</td>\n",
       "    </tr>\n",
       "    <tr>\n",
       "      <th>1.77</th>\n",
       "      <td>13</td>\n",
       "    </tr>\n",
       "    <tr>\n",
       "      <th>1.78</th>\n",
       "      <td>12</td>\n",
       "    </tr>\n",
       "    <tr>\n",
       "      <th>1.74</th>\n",
       "      <td>9</td>\n",
       "    </tr>\n",
       "    <tr>\n",
       "      <th>2.00</th>\n",
       "      <td>6</td>\n",
       "    </tr>\n",
       "    <tr>\n",
       "      <th>1.76</th>\n",
       "      <td>6</td>\n",
       "    </tr>\n",
       "    <tr>\n",
       "      <th>1.75</th>\n",
       "      <td>5</td>\n",
       "    </tr>\n",
       "    <tr>\n",
       "      <th>1.70</th>\n",
       "      <td>1</td>\n",
       "    </tr>\n",
       "    <tr>\n",
       "      <th>2.04</th>\n",
       "      <td>1</td>\n",
       "    </tr>\n",
       "    <tr>\n",
       "      <th>2.05</th>\n",
       "      <td>1</td>\n",
       "    </tr>\n",
       "    <tr>\n",
       "      <th>2.06</th>\n",
       "      <td>1</td>\n",
       "    </tr>\n",
       "    <tr>\n",
       "      <th>2.02</th>\n",
       "      <td>1</td>\n",
       "    </tr>\n",
       "  </tbody>\n",
       "</table>\n",
       "</div>"
      ],
      "text/plain": [
       "      Preco\n",
       "1.95    492\n",
       "1.91    467\n",
       "1.90    371\n",
       "1.96    247\n",
       "1.98    241\n",
       "1.92    116\n",
       "1.94    101\n",
       "1.89     88\n",
       "1.80     84\n",
       "1.85     81\n",
       "1.83     71\n",
       "1.86     60\n",
       "1.81     59\n",
       "1.93     53\n",
       "1.87     49\n",
       "1.84     42\n",
       "1.88     40\n",
       "1.99     39\n",
       "1.82     37\n",
       "1.79     32\n",
       "1.97     25\n",
       "2.01     20\n",
       "1.77     13\n",
       "1.78     12\n",
       "1.74      9\n",
       "2.00      6\n",
       "1.76      6\n",
       "1.75      5\n",
       "1.70      1\n",
       "2.04      1\n",
       "2.05      1\n",
       "2.06      1\n",
       "2.02      1"
      ]
     },
     "execution_count": 16,
     "metadata": {},
     "output_type": "execute_result"
    }
   ],
   "source": [
    "book1.Preco.value_counts().to_frame()"
   ]
  },
  {
   "cell_type": "markdown",
   "metadata": {},
   "source": [
    "Visualizing this List"
   ]
  },
  {
   "cell_type": "code",
   "execution_count": 17,
   "metadata": {},
   "outputs": [
    {
     "data": {
      "image/png": "[encoded data removed]",
      "text/plain": [
       "<Figure size 432x288 with 1 Axes>"
      ]
     },
     "metadata": {
      "needs_background": "light"
     },
     "output_type": "display_data"
    }
   ],
   "source": [
    "ax = sns.scatterplot(y=\"Preco\",x=\"Localidade\", data = book1, hue = \"Preco\", palette=\"husl\")\n",
    "ax.set(xlabel=None)\n",
    "ax.xaxis.set_major_locator(ticker.NullLocator())\n",
    "sns.set_theme(style=\"darkgrid\")"
   ]
  }
 ],
 "metadata": {
  "interpreter": {
   "hash": "2a461a5a5872858cd19cc6c2eb13b25a42a34162c4a5a6df6fc52692e0ec0490"
  },
  "kernelspec": {
   "display_name": "Python 3.10.4 64-bit",
   "language": "python",
   "name": "python3"
  },
  "language_info": {
   "codemirror_mode": {
    "name": "ipython",
    "version": 3
   },
   "file_extension": ".py",
   "mimetype": "text/x-python",
   "name": "python",
   "nbconvert_exporter": "python",
   "pygments_lexer": "ipython3",
   "version": "3.10.4"
  },
  "orig_nbformat": 4
 },
 "nbformat": 4,
 "nbformat_minor": 2
}
